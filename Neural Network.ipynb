{
 "cells": [
  {
   "cell_type": "code",
   "execution_count": 2,
   "metadata": {
    "collapsed": true,
    "deletable": true,
    "editable": true
   },
   "outputs": [],
   "source": [
    "%matplotlib inline\n",
    "import matplotlib.pyplot as plt\n",
    "import numpy as np\n",
    "import pandas as pd\n",
    "import seaborn as sns\n",
    "from sklearn.model_selection import train_test_split\n",
    "from sklearn.datasets import make_moons"
   ]
  },
  {
   "cell_type": "code",
   "execution_count": 31,
   "metadata": {
    "collapsed": false
   },
   "outputs": [
    {
     "data": {
      "text/plain": [
       "<matplotlib.collections.PathCollection at 0x1122db198>"
      ]
     },
     "execution_count": 31,
     "metadata": {},
     "output_type": "execute_result"
    },
    {
     "data": {
      "image/png": "[encoded data removed]",
      "text/plain": [
       "<matplotlib.figure.Figure at 0x11224d048>"
      ]
     },
     "metadata": {},
     "output_type": "display_data"
    }
   ],
   "source": [
    "x_train, y_train = make_moons(n_samples=200, noise=0.05)\n",
    "y_train = np.atleast_2d(y_train).T\n",
    "plt.scatter(x_train[:,0], x_train[:,1], c=y_train[:,0])"
   ]
  },
  {
   "cell_type": "code",
   "execution_count": 32,
   "metadata": {
    "collapsed": true
   },
   "outputs": [],
   "source": [
    "def sigmoid(z):\n",
    "    return 1 / (1 + np.exp(-z))"
   ]
  },
  {
   "cell_type": "markdown",
   "metadata": {},
   "source": [
    "Number of samples, input units, number of output units:"
   ]
  },
  {
   "cell_type": "code",
   "execution_count": 38,
   "metadata": {
    "collapsed": false
   },
   "outputs": [
    {
     "data": {
      "text/plain": [
       "(200, 2, 1)"
      ]
     },
     "execution_count": 38,
     "metadata": {},
     "output_type": "execute_result"
    }
   ],
   "source": [
    "assert x_train.shape[0] == y_train.shape[0]\n",
    "x_train.shape[0], x_train.shape[1], y_train.shape[1]"
   ]
  },
  {
   "cell_type": "markdown",
   "metadata": {
    "deletable": true,
    "editable": true
   },
   "source": [
    "\\begin{align*}\n",
    "h_\\Theta(x) &= a^{(j + 1)} \\\\\n",
    "a^{(j)} &= g(z^{(j)}) \\\\\n",
    "z^{(j)} &= \\Theta^{(j - 1)}a^{(j - 1)}\n",
    "\\end{align*}\n",
    "\n",
    "Where $g$ is an activation function applied element-wise, $a^{(1)} = x$ (the overall network input), and $a^{(j)}_0 = 1$ for a bias unit for all layers $j$."
   ]
  },
  {
   "cell_type": "code",
   "execution_count": 73,
   "metadata": {
    "collapsed": false
   },
   "outputs": [],
   "source": [
    "\"\"\"Theta is a matrix of j rows and i columns where each row is an output unit\n",
    "and each column is a corresponding input weight. Thus there are j rows for the\n",
    "number of units in the next layer and i columsn for the number of units in the\n",
    "input layer.\n",
    "\"\"\"\n",
    "def compute_a(theta, layer, activation_func):\n",
    "    z = np.matmul(theta, layer)\n",
    "    return activation_func(z)\n",
    "\n",
    "\n",
    "def feed_forward(weights, input_layer, activation_func):\n",
    "    a = [input_layer]\n",
    "    for theta in weights:\n",
    "        a.append(compute_a(theta, a[-1], activation_func))\n",
    "    return a"
   ]
  },
  {
   "cell_type": "code",
   "execution_count": 76,
   "metadata": {
    "collapsed": false
   },
   "outputs": [
    {
     "name": "stdout",
     "output_type": "stream",
     "text": [
      "[[ 0.1]\n",
      " [ 0.2]\n",
      " [ 0.3]]\n",
      "[[ 0.549834  ]\n",
      " [ 0.62245933]]\n",
      "[[ 0.56013777]\n",
      " [ 0.64414699]\n",
      " [ 0.67054224]]\n"
     ]
    }
   ],
   "source": [
    "a1 = np.atleast_2d([ 0.1, 0.2, 0.3 ]).T\n",
    "a2 = np.atleast_2d([ 0.2, 0.5 ]).T\n",
    "weights = [\n",
    "    np.array([\n",
    "        [ 0.2, 0.3, 0.4 ],  # Weights for each input unit to output unit 1\n",
    "        [ 0.7, 0.8, 0.9 ]   # Weights for each input unit to output unit 2\n",
    "    ]),\n",
    "    np.array([\n",
    "        [ 0.1, 0.3 ],       # The previous layer had two output units, which means two columns.\n",
    "        [ 0.4, 0.6 ],       # This layer has three units, which means three rows.\n",
    "        [ 0.5, 0.7 ],\n",
    "    ])\n",
    "]\n",
    "\n",
    "assert np.array_equal(np.matmul(weights[0], a1), a2)\n",
    "for layer in feed_forward(weights, a1, sigmoid):\n",
    "    print(layer)"
   ]
  },
  {
   "cell_type": "code",
   "execution_count": null,
   "metadata": {
    "collapsed": true
   },
   "outputs": [],
   "source": []
  }
 ],
 "metadata": {
  "kernelspec": {
   "display_name": "Python 3",
   "language": "python",
   "name": "python3"
  },
  "language_info": {
   "codemirror_mode": {
    "name": "ipython",
    "version": 3
   },
   "file_extension": ".py",
   "mimetype": "text/x-python",
   "name": "python",
   "nbconvert_exporter": "python",
   "pygments_lexer": "ipython3",
   "version": "3.5.2"
  }
 },
 "nbformat": 4,
 "nbformat_minor": 2
}
