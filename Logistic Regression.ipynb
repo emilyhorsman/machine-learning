{
 "cells": [
  {
   "cell_type": "code",
   "execution_count": 1,
   "metadata": {
    "collapsed": true,
    "deletable": true,
    "editable": true
   },
   "outputs": [],
   "source": [
    "%matplotlib inline\n",
    "import matplotlib.pyplot as plt\n",
    "import numpy as np\n",
    "import pandas as pd\n",
    "import seaborn as sns\n",
    "from sklearn.linear_model import LogisticRegression\n",
    "from sklearn.model_selection import train_test_split"
   ]
  },
  {
   "cell_type": "code",
   "execution_count": 2,
   "metadata": {
    "collapsed": false,
    "deletable": true,
    "editable": true
   },
   "outputs": [
    {
     "data": {
      "image/png": "[encoded data removed]",
      "text/plain": [
       "<matplotlib.figure.Figure at 0x10c3ec978>"
      ]
     },
     "metadata": {},
     "output_type": "display_data"
    }
   ],
   "source": [
    "def sigmoid(z):\n",
    "    return 1. / (1 + np.exp(-z))\n",
    "\n",
    "a = np.arange(-6, 6, 0.2)\n",
    "plt.plot(a, [ sigmoid(x) for x in a ])\n",
    "plt.grid()\n",
    "plt.show()"
   ]
  },
  {
   "cell_type": "markdown",
   "metadata": {
    "deletable": true,
    "editable": true
   },
   "source": [
    "Hypothesis from linear regression: $z_\\theta(x) = \\theta_0x_0 + \\theta_1x_1 \\dots + \\theta_nx_n = \\theta^Tx$"
   ]
  },
  {
   "cell_type": "code",
   "execution_count": 3,
   "metadata": {
    "collapsed": false,
    "deletable": true,
    "editable": true
   },
   "outputs": [
    {
     "name": "stdout",
     "output_type": "stream",
     "text": [
      "Theta for two features:\n",
      " [[0]\n",
      " [0]]\n",
      "X with one sample for two features:\n",
      " [[1 1]]\n",
      "[[0]]\n",
      "\n",
      "Theta for two features:\n",
      " [[1]\n",
      " [2]]\n",
      "X with one sample for two features:\n",
      " [[1 1]]\n",
      "[[3]]\n",
      "\n",
      "Theta for two features:\n",
      " [[1]\n",
      " [2]]\n",
      "X with two samples for two features:\n",
      " [[1 4]\n",
      " [2 3]]\n",
      "[[9]\n",
      " [8]]\n"
     ]
    }
   ],
   "source": [
    "def z(theta, x):\n",
    "    assert theta.shape[1] == 1\n",
    "    assert theta.shape[0] == x.shape[1]  # Theta should have as many rows as x has features.\n",
    "    return np.dot(x, theta)\n",
    "\n",
    "bt = np.atleast_2d([0, 0]).T\n",
    "bx = np.atleast_2d([1, 1])\n",
    "print(\"Theta for two features:\\n\", bt)\n",
    "print(\"X with one sample for two features:\\n\", bx)\n",
    "bz = z(bt, bx)\n",
    "print(bz)\n",
    "assert bz == np.atleast_2d(0)\n",
    "assert bz.shape == (1, 1)\n",
    "print()\n",
    "\n",
    "bt = np.atleast_2d([1, 2]).T\n",
    "bx = np.atleast_2d([1, 1])\n",
    "print(\"Theta for two features:\\n\", bt)\n",
    "print(\"X with one sample for two features:\\n\", bx)\n",
    "bz = z(bt, bx)\n",
    "print(bz)\n",
    "assert bz == np.atleast_2d(3)\n",
    "assert bz.shape == (1, 1)\n",
    "print()\n",
    "\n",
    "bt = np.atleast_2d([1, 2]).T\n",
    "bx = pd.DataFrame({ 'x': [1, 2], 'y': [4, 3] }).values\n",
    "print(\"Theta for two features:\\n\", bt)\n",
    "print(\"X with two samples for two features:\\n\", bx)\n",
    "bz = z(bt, bx)\n",
    "print(bz)\n",
    "assert bz.shape == (2, 1)  # Two rows, one for each sample."
   ]
  },
  {
   "cell_type": "markdown",
   "metadata": {
    "deletable": true,
    "editable": true
   },
   "source": [
    "Logistic hypothesis from composition of sigmoid/logistic function and linear hypothesis:\n",
    "$$h_\\theta(x) = \\frac{1}{1 + e^{-z_\\theta(x)}} = \\frac{1}{1 + e^{-\\theta^Tx}}$$"
   ]
  },
  {
   "cell_type": "code",
   "execution_count": 4,
   "metadata": {
    "collapsed": false,
    "deletable": true,
    "editable": true
   },
   "outputs": [
    {
     "name": "stdout",
     "output_type": "stream",
     "text": [
      "[[0]\n",
      " [0]]\n",
      "[[ 0.5]]\n",
      "[[ 0.73105858]\n",
      " [ 0.88079708]\n",
      " [ 0.95257413]]\n"
     ]
    }
   ],
   "source": [
    "def hypothesis(theta, x):\n",
    "    return sigmoid(z(theta, x))\n",
    "\n",
    "bt = np.atleast_2d([0, 0]).T\n",
    "print(bt)\n",
    "bz = hypothesis(bt, np.atleast_2d([1000, 1000]))\n",
    "print(bz)\n",
    "assert bz.shape == (1, 1)\n",
    "assert bz == np.atleast_2d(0.5)\n",
    "\n",
    "bt = np.atleast_2d([0, 1]).T  # Two features.\n",
    "bx = pd.DataFrame({ 'x': [1, 1, 1], 'y': [1, 2, 3] }).values  # Three samples.\n",
    "bz = hypothesis(bt, bx)\n",
    "print(bz)\n",
    "assert bz.shape == (3, 1)  # Three samples.\n",
    "assert bz[0] < bz[1]\n",
    "assert bz[1] < bz[2]"
   ]
  },
  {
   "cell_type": "markdown",
   "metadata": {
    "deletable": true,
    "editable": true
   },
   "source": [
    "The logistic hypothesis tells us the probability of an $x$ being $1$ for the given $\\theta$.\n",
    "$$h_\\theta(x) = P(y = 1 \\,|\\, x ; \\theta) = 1 - P(y = 0 \\,|\\, x ; \\theta)$$\n",
    "\n",
    "We choose to predict that $y = 1$ when $h_\\theta(x) \\ge 0.5$. `sigmoid(x)` returns $ \\ge 0.5$ for values $x \\ge 0$. Thus we can predict $y = 1$ when $\\theta^Tx \\ge 0$."
   ]
  },
  {
   "cell_type": "markdown",
   "metadata": {
    "deletable": true,
    "editable": true
   },
   "source": [
    "We cannot use the cost function from linear regression with this hypothesis since it would produce local minima. Instead given `m` samples:\n",
    "\n",
    "\\begin{align*}\n",
    "J(\\theta) &= \\frac{1}{m} \\sum_{i=1}^{m} \\text{Cost}(h_\\theta(x^{(i)}), y^{(i)}) \\\\\n",
    "\\text{Cost}(h_\\theta(x^{(i)}), 1) &= -\\log(h_\\theta(x)) \\\\\n",
    "\\text{Cost}(h_\\theta(x^{(i)}), 0) &= -\\log(h_\\theta(1 - x))\n",
    "\\end{align*}\n",
    "\n",
    "This way we get a higher penalty the further the hypothesis is from `y` no matter if `y` is `1` or `0`.\n",
    "\n",
    "This can be simplified with a vectorized implementation and with the conditionals removed:\n",
    "\n",
    "$$\n",
    "J(\\theta) = \\frac{1}{m} \\dot (-y^{T}\\log(h_\\theta(x)) - (1 - y)^{T} \\log(1 - h_\\theta(x)))\n",
    "$$"
   ]
  },
  {
   "cell_type": "code",
   "execution_count": 5,
   "metadata": {
    "collapsed": true,
    "deletable": true,
    "editable": true
   },
   "outputs": [],
   "source": [
    "def cost(theta, x, y):\n",
    "    assert x.shape[1] == theta.shape[0]  # x has a column for each feature, theta has a row for each feature.\n",
    "    assert x.shape[0] == y.shape[0]  # One row per sample.\n",
    "    assert y.shape[1] == 1\n",
    "    assert theta.shape[1] == 1\n",
    "    h = hypothesis(theta, x)\n",
    "    one_case = np.matmul(-y.T, np.log(h))\n",
    "    zero_case = np.matmul(-(1 - y).T, np.log(1 - h))\n",
    "    return (one_case + zero_case) / len(x)"
   ]
  },
  {
   "cell_type": "code",
   "execution_count": 6,
   "metadata": {
    "collapsed": false,
    "deletable": true,
    "editable": true
   },
   "outputs": [
    {
     "name": "stdout",
     "output_type": "stream",
     "text": [
      "(2, 1) (1, 2) (1, 1) 1\n",
      "[[ 0.12692801]]\n"
     ]
    }
   ],
   "source": [
    "# Simple case, two features, one sample.\n",
    "cx = pd.DataFrame({ 'b': [1], 'x': [1] }).values\n",
    "ct = np.atleast_2d([ 1, 1 ]).T\n",
    "cy = np.atleast_2d([ 1 ]).T\n",
    "print(ct.shape, cx.shape, cy.shape, len(cx))\n",
    "cc = cost(ct, cx, cy)\n",
    "print(cc)\n",
    "assert cc.shape == (1, 1)"
   ]
  },
  {
   "cell_type": "code",
   "execution_count": 7,
   "metadata": {
    "collapsed": false,
    "deletable": true,
    "editable": true
   },
   "outputs": [
    {
     "name": "stdout",
     "output_type": "stream",
     "text": [
      "(2, 1) (3, 2) (3, 1) 3\n",
      "[[ 0.23104907]]\n"
     ]
    }
   ],
   "source": [
    "# Two features, three samples.\n",
    "cx = pd.DataFrame({ 'b': [0, 1, 2], 'x': [0, 1, 2] }).values\n",
    "ct = np.atleast_2d([ 8, 10 ]).T      # Two features, two rows.\n",
    "cy = np.atleast_2d([ 1, 1, 1 ]).T    # Three samples, three rows.\n",
    "print(ct.shape, cx.shape, cy.shape, len(cx))\n",
    "print(cost(ct, cx, cy))"
   ]
  },
  {
   "cell_type": "code",
   "execution_count": 8,
   "metadata": {
    "collapsed": false,
    "deletable": true,
    "editable": true
   },
   "outputs": [
    {
     "name": "stdout",
     "output_type": "stream",
     "text": [
      "(2, 1) (1, 2) (1, 1) 1\n",
      "[[ 1.31326169]]\n"
     ]
    }
   ],
   "source": [
    "# Simple case, two features, one sample, y = 0.\n",
    "cx = pd.DataFrame({ 'b': [1], 'x': [0] }).values\n",
    "ct = np.atleast_2d([ 1, 0 ]).T\n",
    "cy = np.atleast_2d([ 0 ]).T\n",
    "print(ct.shape, cx.shape, cy.shape, len(cx))\n",
    "print(cost(ct, cx, cy))"
   ]
  },
  {
   "cell_type": "code",
   "execution_count": 22,
   "metadata": {
    "collapsed": true,
    "deletable": true,
    "editable": true
   },
   "outputs": [],
   "source": [
    "def gradient_descent(theta, x, y, learning_rate, regularization = 0):\n",
    "    regularization = theta * regularization\n",
    "    error = hypothesis(theta, x) - y\n",
    "    n = (learning_rate / len(x)) * (np.matmul(x.T, error) + regularization)\n",
    "    return theta - n"
   ]
  },
  {
   "cell_type": "code",
   "execution_count": 10,
   "metadata": {
    "collapsed": false,
    "deletable": true,
    "editable": true
   },
   "outputs": [
    {
     "data": {
      "text/plain": [
       "(array([[ 0.],\n",
       "        [ 0.]]), array([[ 0.69314718]]))"
      ]
     },
     "execution_count": 10,
     "metadata": {},
     "output_type": "execute_result"
    }
   ],
   "source": [
    "gx = pd.DataFrame({ 'b': [0], 'x': [0] })\n",
    "gy = np.atleast_2d([ 0 ]).T\n",
    "gt = np.atleast_2d([ 0, 0 ]).T\n",
    "gradient_descent(gt, gx, gy, 0.0005), cost(gt, gx, gy)"
   ]
  },
  {
   "cell_type": "code",
   "execution_count": 23,
   "metadata": {
    "collapsed": true,
    "deletable": true,
    "editable": true
   },
   "outputs": [],
   "source": [
    "def minimize(theta, x, y, iterations, learning_rate, regularization = 0):\n",
    "    costs = []\n",
    "    for _ in range(iterations):\n",
    "        theta = gradient_descent(theta, x, y, learning_rate, regularization)\n",
    "        costs.append(cost(theta, x, y)[0][0])\n",
    "    return theta, costs"
   ]
  },
  {
   "cell_type": "code",
   "execution_count": 12,
   "metadata": {
    "collapsed": false,
    "deletable": true,
    "editable": true
   },
   "outputs": [
    {
     "data": {
      "image/png": "[encoded data removed]",
      "text/plain": [
       "<matplotlib.figure.Figure at 0x1088999b0>"
      ]
     },
     "metadata": {},
     "output_type": "display_data"
    },
    {
     "data": {
      "text/html": [
       "<div>\n",
       "<style scoped>\n",
       "    .dataframe tbody tr th:only-of-type {\n",
       "        vertical-align: middle;\n",
       "    }\n",
       "\n",
       "    .dataframe tbody tr th {\n",
       "        vertical-align: top;\n",
       "    }\n",
       "\n",
       "    .dataframe thead th {\n",
       "        text-align: right;\n",
       "    }\n",
       "</style>\n",
       "<table border=\"1\" class=\"dataframe\">\n",
       "  <thead>\n",
       "    <tr style=\"text-align: right;\">\n",
       "      <th></th>\n",
       "      <th>0</th>\n",
       "    </tr>\n",
       "  </thead>\n",
       "  <tbody>\n",
       "    <tr>\n",
       "      <th>0</th>\n",
       "      <td>-4.570828</td>\n",
       "    </tr>\n",
       "  </tbody>\n",
       "</table>\n",
       "</div>"
      ],
      "text/plain": [
       "          0\n",
       "0 -4.570828"
      ]
     },
     "execution_count": 12,
     "metadata": {},
     "output_type": "execute_result"
    }
   ],
   "source": [
    "gx = pd.DataFrame({ 'b': [1], 'x': [1] })\n",
    "gy = np.atleast_2d([ 0 ]).T\n",
    "gt = np.atleast_2d([ 0, 0 ]).T\n",
    "\n",
    "theta, costs = minimize(gt, gx, gy, 1000, 0.05)\n",
    "plt.plot(range(len(costs)), costs)\n",
    "plt.show()\n",
    "\n",
    "gx.dot(theta)"
   ]
  },
  {
   "cell_type": "code",
   "execution_count": 13,
   "metadata": {
    "collapsed": false,
    "deletable": true,
    "editable": true
   },
   "outputs": [
    {
     "data": {
      "image/png": "[encoded data removed]",
      "text/plain": [
       "<matplotlib.figure.Figure at 0x10c483e80>"
      ]
     },
     "metadata": {},
     "output_type": "display_data"
    },
    {
     "data": {
      "text/html": [
       "<div>\n",
       "<style scoped>\n",
       "    .dataframe tbody tr th:only-of-type {\n",
       "        vertical-align: middle;\n",
       "    }\n",
       "\n",
       "    .dataframe tbody tr th {\n",
       "        vertical-align: top;\n",
       "    }\n",
       "\n",
       "    .dataframe thead th {\n",
       "        text-align: right;\n",
       "    }\n",
       "</style>\n",
       "<table border=\"1\" class=\"dataframe\">\n",
       "  <thead>\n",
       "    <tr style=\"text-align: right;\">\n",
       "      <th></th>\n",
       "      <th>0</th>\n",
       "    </tr>\n",
       "  </thead>\n",
       "  <tbody>\n",
       "    <tr>\n",
       "      <th>0</th>\n",
       "      <td>4.572902</td>\n",
       "    </tr>\n",
       "  </tbody>\n",
       "</table>\n",
       "</div>"
      ],
      "text/plain": [
       "          0\n",
       "0  4.572902"
      ]
     },
     "execution_count": 13,
     "metadata": {},
     "output_type": "execute_result"
    }
   ],
   "source": [
    "gx = pd.DataFrame({ 'b': [1], 'x': [1] })\n",
    "gy = np.atleast_2d([ 1 ]).T\n",
    "gt = np.atleast_2d([ 0.05, 0.05 ]).T\n",
    "\n",
    "theta, costs = minimize(gt, gx, gy, 1000, 0.05)\n",
    "plt.plot(range(len(costs)), costs)\n",
    "plt.show()\n",
    "\n",
    "gx.dot(theta)"
   ]
  },
  {
   "cell_type": "code",
   "execution_count": 14,
   "metadata": {
    "collapsed": false,
    "deletable": true,
    "editable": true
   },
   "outputs": [
    {
     "data": {
      "image/png": "[encoded data removed]",
      "text/plain": [
       "<matplotlib.figure.Figure at 0x10c245588>"
      ]
     },
     "metadata": {},
     "output_type": "display_data"
    },
    {
     "name": "stdout",
     "output_type": "stream",
     "text": [
      "candidate =  [[ 3.19923368]\n",
      " [-0.90319   ]\n",
      " [-0.46921438]]\n",
      "cost = 0.625007509242\n",
      "accuracy =  0.6425\n"
     ]
    }
   ],
   "source": [
    "data = pd.read_csv(\"logistic_regression_data.csv\")\n",
    "x = np.column_stack((np.ones(len(data)), data.loc[:,['gpa', 'rank']].values))\n",
    "y = np.atleast_2d(data['admit'].values).T\n",
    "candidate = np.atleast_2d([ np.random.uniform(-4, 4, 3) ]).T\n",
    "theta, costs = minimize(candidate, x, y, 5000, 0.0008)\n",
    "plt.plot(range(len(costs)), costs)\n",
    "plt.show()\n",
    "print(\"candidate = \", candidate)\n",
    "print(\"cost =\", costs[-1])\n",
    "\n",
    "predictions = x.dot(theta)\n",
    "results = zip(predictions[:,0] > 0, map(bool, (y[:,0])))\n",
    "print(\"accuracy = \", len(list(filter(lambda x: x[0] == x[1], results))) / len(predictions))"
   ]
  },
  {
   "cell_type": "code",
   "execution_count": 15,
   "metadata": {
    "collapsed": false,
    "deletable": true,
    "editable": true
   },
   "outputs": [
    {
     "data": {
      "text/plain": [
       "[]"
      ]
     },
     "execution_count": 15,
     "metadata": {},
     "output_type": "execute_result"
    }
   ],
   "source": [
    "data = pd.read_csv(\"logistic_regression_data.csv\")\n",
    "x = np.column_stack((np.ones(len(data)), data.loc[:,['gpa', 'rank']].values))\n",
    "y = np.atleast_2d(data['admit'].values).T\n",
    "\n",
    "results = []\n",
    "for _ in range(1):\n",
    "    candidate = np.atleast_2d([ np.random.uniform(-4, 4, 3) ]).T\n",
    "    theta, costs = minimize(candidate, x, y, 6000, 0.0008)\n",
    "    \n",
    "    predictions = x.dot(theta)\n",
    "    cmps = zip(predictions[:,0] > 0, map(bool, (y[:,0])))\n",
    "    accuracy = len(list(filter(lambda x: x[0] == x[1], cmps))) / len(predictions)\n",
    "    if accuracy > 0.71:\n",
    "        print(accuracy, costs[-1], candidate[:,0])\n",
    "        results.append((accuracy, costs[-1], candidate))\n",
    "        \n",
    "results"
   ]
  },
  {
   "cell_type": "markdown",
   "metadata": {
    "deletable": true,
    "editable": true
   },
   "source": [
    "Hall of fame:\n",
    "\n",
    "- 6000/0.0008 0.725 0.580182265246 [-3.03836764 -1.35464218 -1.97743099]\n",
    "- 6000/0.0008 0.73 0.581455360207 [-3.62543456  1.82863319 -0.38542527]\n",
    "- 6000/0.0008 0.735 0.579989153107 [-2.20285257  2.84503643  0.79073498]"
   ]
  },
  {
   "cell_type": "code",
   "execution_count": 16,
   "metadata": {
    "collapsed": false,
    "deletable": true,
    "editable": true
   },
   "outputs": [
    {
     "data": {
      "text/plain": [
       "0.71750000000000003"
      ]
     },
     "execution_count": 16,
     "metadata": {},
     "output_type": "execute_result"
    }
   ],
   "source": [
    "regression = LogisticRegression()\n",
    "regression.fit(x, y[:,0])\n",
    "regression.score(x, y[:,0])"
   ]
  },
  {
   "cell_type": "code",
   "execution_count": 17,
   "metadata": {
    "collapsed": false,
    "deletable": true,
    "editable": true
   },
   "outputs": [],
   "source": [
    "mushroom_data = pd.read_csv(\"mushrooms.csv\").dropna()\n",
    "mushroom_x = pd.get_dummies(mushroom_data.drop('class', axis=1))\n",
    "mushroom_x['bias'] = 1\n",
    "mushroom_x = mushroom_x.values\n",
    "mushroom_y = (np.atleast_2d(mushroom_data['class']).T == 'p').astype(int)"
   ]
  },
  {
   "cell_type": "code",
   "execution_count": 29,
   "metadata": {
    "collapsed": false,
    "deletable": true,
    "editable": true
   },
   "outputs": [
    {
     "data": {
      "text/plain": [
       "1.0"
      ]
     },
     "execution_count": 29,
     "metadata": {},
     "output_type": "execute_result"
    }
   ],
   "source": [
    "x_train, x_test, y_train, y_test = train_test_split(mushroom_x, mushroom_y, train_size=0.85, test_size=0.15)\n",
    "mushroom_regression = LogisticRegression()\n",
    "mushroom_regression.fit(x_train, y_train[:,0])\n",
    "mushroom_regression.score(x_test, y_test[:,0])"
   ]
  },
  {
   "cell_type": "code",
   "execution_count": 43,
   "metadata": {
    "collapsed": false,
    "deletable": true,
    "editable": true
   },
   "outputs": [
    {
     "data": {
      "image/png": "[encoded data removed]",
      "text/plain": [
       "<matplotlib.figure.Figure at 0x10fc47c18>"
      ]
     },
     "metadata": {},
     "output_type": "display_data"
    },
    {
     "name": "stdout",
     "output_type": "stream",
     "text": [
      "0.00761761517902\n"
     ]
    }
   ],
   "source": [
    "candidate = np.atleast_2d([ np.random.uniform(-1, 1, 118) ]).T\n",
    "theta, costs = minimize(candidate, x_train, y_train, 1200, 1.2, 0.5)\n",
    "plt.plot(range(len(costs)), costs)\n",
    "plt.show()\n",
    "print(costs[-1])"
   ]
  },
  {
   "cell_type": "code",
   "execution_count": 45,
   "metadata": {
    "collapsed": false,
    "deletable": true,
    "editable": true
   },
   "outputs": [
    {
     "data": {
      "text/plain": [
       "0.9991796554552912"
      ]
     },
     "execution_count": 45,
     "metadata": {},
     "output_type": "execute_result"
    }
   ],
   "source": [
    "predictions = x_test.dot(theta) > 0\n",
    "len(list(filter(lambda x: x[0] == x[1], np.dstack((predictions, y_test))[:,0]))) / len(predictions)"
   ]
  }
 ],
 "metadata": {
  "kernelspec": {
   "display_name": "Python 3",
   "language": "python",
   "name": "python3"
  },
  "language_info": {
   "codemirror_mode": {
    "name": "ipython",
    "version": 3
   },
   "file_extension": ".py",
   "mimetype": "text/x-python",
   "name": "python",
   "nbconvert_exporter": "python",
   "pygments_lexer": "ipython3",
   "version": "3.5.2"
  }
 },
 "nbformat": 4,
 "nbformat_minor": 2
}
